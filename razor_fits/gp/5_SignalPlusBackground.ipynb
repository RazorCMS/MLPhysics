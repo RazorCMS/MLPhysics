{
 "cells": [
  {
   "cell_type": "code",
   "execution_count": 1,
   "metadata": {
    "collapsed": true
   },
   "outputs": [],
   "source": [
    "import importlib\n",
    "import itertools\n",
    "import numpy as np\n",
    "import scipy as sp\n",
    "import matplotlib.pyplot as plt\n",
    "import torch\n",
    "from torch.autograd import Variable\n",
    "\n",
    "np.random.seed(33333)\n",
    "torch.manual_seed(33333)\n",
    "%matplotlib inline"
   ]
  },
  {
   "cell_type": "code",
   "execution_count": 33,
   "metadata": {},
   "outputs": [],
   "source": [
    "import analysis\n",
    "import razor_data\n",
    "import toy_data\n",
    "import plotting\n",
    "import gp\n",
    "importlib.reload(analysis);\n",
    "importlib.reload(razor_data);\n",
    "importlib.reload(toy_data);\n",
    "importlib.reload(plotting);"
   ]
  },
  {
   "cell_type": "code",
   "execution_count": 23,
   "metadata": {},
   "outputs": [],
   "source": [
    "def fit_signal(\n",
    "        box, btags, sms,                                # analysis region\n",
    "        num_mr_bins, mr_max,                            # fit range\n",
    "        k_ell=200, k_alpha=200,                         # kernel parameters\n",
    "        steps=1000, lr=0.001,                           # fit parameters\n",
    "        hmc_epsilon=0.0001, hmc_L_max=10,               # HMC parameters\n",
    "        num_samples=40000, verbose=False): \n",
    "    \"\"\"\n",
    "    Performs a signal + background fit using a fixed signal shape.\n",
    "    \"\"\"\n",
    "    data = analysis.get_data(box, btags, num_mr_bins, mr_max)\n",
    "    data_sig = analysis.get_data(box, btags, num_mr_bins, mr_max, \n",
    "                                 proc=sms)\n",
    "    U = data['u']\n",
    "    Y = data['y']\n",
    "    # inject signal into the data\n",
    "    S_mean = data_sig['y']\n",
    "    Y = Y + torch.Tensor(np.random.poisson(S_mean.numpy()))\n",
    "    \n",
    "    kernel = gp.SquaredExponentialKernel(k_ell, k_alpha)\n",
    "    G = gp.PoissonGPWithSignal(kernel, U, Y, S_mean,\n",
    "            hmc_epsilon=hmc_epsilon, hmc_L_max=hmc_L_max)\n",
    "    G.fit(num_steps=steps, lr=lr, verbose=verbose)\n",
    "\n",
    "    return G"
   ]
  },
  {
   "cell_type": "code",
   "execution_count": 56,
   "metadata": {},
   "outputs": [
    {
     "name": "stdout",
     "output_type": "stream",
     "text": [
      "Iteration 0 of 1000\n",
      "Iteration 100 of 1000\n",
      "Iteration 200 of 1000\n",
      "Iteration 300 of 1000\n",
      "Iteration 400 of 1000\n",
      "Iteration 500 of 1000\n",
      "Iteration 600 of 1000\n",
      "Iteration 700 of 1000\n",
      "Iteration 800 of 1000\n",
      "Iteration 900 of 1000\n"
     ]
    }
   ],
   "source": [
    "box = 'SevenJet'\n",
    "btags = 2\n",
    "num_mr_bins = 50\n",
    "mr_max = 4000\n",
    "sms = 'T1tttt_1800_100'\n",
    "\n",
    "k_ell = 800\n",
    "k_alpha = 150\n",
    "G = fit_signal(box, btags, sms, num_mr_bins, mr_max, verbose=True,\n",
    "              k_ell=k_ell, k_alpha=k_alpha)"
   ]
  },
  {
   "cell_type": "code",
   "execution_count": 61,
   "metadata": {},
   "outputs": [
    {
     "name": "stdout",
     "output_type": "stream",
     "text": [
      "Beginning HMC iterations with epsilon=0.0001, L_max=10\n",
      "2000: Accepted steps: 1805, Rejected steps: 195 (0 bad)\n",
      "4000: Accepted steps: 3585, Rejected steps: 415 (0 bad)\n",
      "6000: Accepted steps: 5388, Rejected steps: 612 (0 bad)\n",
      "8000: Accepted steps: 7147, Rejected steps: 853 (0 bad)\n",
      "10000: Accepted steps: 8937, Rejected steps: 1063 (0 bad)\n",
      "12000: Accepted steps: 10703, Rejected steps: 1297 (0 bad)\n",
      "14000: Accepted steps: 12508, Rejected steps: 1492 (0 bad)\n",
      "16000: Accepted steps: 14313, Rejected steps: 1687 (0 bad)\n",
      "18000: Accepted steps: 16101, Rejected steps: 1899 (0 bad)\n",
      "20000: Accepted steps: 17900, Rejected steps: 2100 (0 bad)\n",
      "22000: Accepted steps: 19704, Rejected steps: 2296 (0 bad)\n",
      "24000: Accepted steps: 21466, Rejected steps: 2534 (0 bad)\n",
      "26000: Accepted steps: 23234, Rejected steps: 2766 (0 bad)\n",
      "28000: Accepted steps: 25012, Rejected steps: 2988 (0 bad)\n",
      "30000: Accepted steps: 26800, Rejected steps: 3200 (0 bad)\n",
      "32000: Accepted steps: 28617, Rejected steps: 3383 (0 bad)\n",
      "34000: Accepted steps: 30382, Rejected steps: 3618 (0 bad)\n",
      "36000: Accepted steps: 32146, Rejected steps: 3854 (0 bad)\n",
      "38000: Accepted steps: 33955, Rejected steps: 4045 (0 bad)\n",
      "40000: Accepted steps: 35692, Rejected steps: 4308 (0 bad)\n",
      "42000: Accepted steps: 37506, Rejected steps: 4494 (0 bad)\n",
      "44000: Accepted steps: 39271, Rejected steps: 4729 (0 bad)\n",
      "46000: Accepted steps: 41078, Rejected steps: 4922 (0 bad)\n",
      "48000: Accepted steps: 42852, Rejected steps: 5148 (0 bad)\n",
      "50000: Accepted steps: 44546, Rejected steps: 5454 (0 bad)\n",
      "52000: Accepted steps: 46327, Rejected steps: 5673 (0 bad)\n",
      "54000: Accepted steps: 48116, Rejected steps: 5884 (0 bad)\n",
      "56000: Accepted steps: 49892, Rejected steps: 6108 (0 bad)\n",
      "58000: Accepted steps: 51646, Rejected steps: 6354 (0 bad)\n",
      "60000: Accepted steps: 53461, Rejected steps: 6539 (0 bad)\n",
      "62000: Accepted steps: 55254, Rejected steps: 6746 (0 bad)\n",
      "64000: Accepted steps: 57022, Rejected steps: 6978 (0 bad)\n",
      "66000: Accepted steps: 58802, Rejected steps: 7198 (0 bad)\n",
      "68000: Accepted steps: 60597, Rejected steps: 7403 (0 bad)\n",
      "70000: Accepted steps: 62362, Rejected steps: 7638 (0 bad)\n",
      "72000: Accepted steps: 64157, Rejected steps: 7843 (0 bad)\n",
      "74000: Accepted steps: 65932, Rejected steps: 8068 (0 bad)\n",
      "76000: Accepted steps: 67732, Rejected steps: 8268 (0 bad)\n",
      "78000: Accepted steps: 69480, Rejected steps: 8520 (0 bad)\n",
      "Acceptance rate: 0.891\n"
     ]
    }
   ],
   "source": [
    "samples = G.sample(40000, verbose=True)"
   ]
  },
  {
   "cell_type": "code",
   "execution_count": 62,
   "metadata": {
    "collapsed": true
   },
   "outputs": [],
   "source": [
    "samples_withsignal = G.preds_from_samples(include_signal=True)"
   ]
  },
  {
   "cell_type": "code",
   "execution_count": 63,
   "metadata": {},
   "outputs": [
    {
     "data": {
      "image/png": "[encoded data removed]",
      "text/plain": [
       "<matplotlib.figure.Figure at 0x7f1424072c18>"
      ]
     },
     "metadata": {},
     "output_type": "display_data"
    }
   ],
   "source": [
    "importlib.reload(plotting);\n",
    "plotting.plot_hist_1d(U=G.U.data, Y=G.Y.data, S=G.S.data, samples=samples, samples_withsignal=samples_withsignal)"
   ]
  },
  {
   "cell_type": "code",
   "execution_count": 64,
   "metadata": {},
   "outputs": [
    {
     "data": {
      "image/png": "[encoded data removed]",
      "text/plain": [
       "<matplotlib.figure.Figure at 0x7f1424089710>"
      ]
     },
     "metadata": {},
     "output_type": "display_data"
    }
   ],
   "source": [
    "plt.hist(np.concatenate([np.exp(s[0]) for s in G.log_signal_samples]), bins=30);"
   ]
  },
  {
   "cell_type": "code",
   "execution_count": null,
   "metadata": {
    "collapsed": true
   },
   "outputs": [],
   "source": []
  }
 ],
 "metadata": {
  "kernelspec": {
   "display_name": "Python 3",
   "language": "python",
   "name": "python3"
  },
  "language_info": {
   "codemirror_mode": {
    "name": "ipython",
    "version": 3
   },
   "file_extension": ".py",
   "mimetype": "text/x-python",
   "name": "python",
   "nbconvert_exporter": "python",
   "pygments_lexer": "ipython3",
   "version": "3.5.2"
  }
 },
 "nbformat": 4,
 "nbformat_minor": 2
}
