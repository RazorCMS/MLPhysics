{
 "cells": [
  {
   "cell_type": "markdown",
   "metadata": {},
   "source": [
    "The goal of this notebook is to test the GP with the Gaussian conditional likelihood assumption."
   ]
  },
  {
   "cell_type": "code",
   "execution_count": 1,
   "metadata": {
    "collapsed": true
   },
   "outputs": [],
   "source": [
    "import importlib\n",
    "import itertools\n",
    "import numpy as np\n",
    "import matplotlib.pyplot as plt\n",
    "import torch\n",
    "\n",
    "%matplotlib inline"
   ]
  },
  {
   "cell_type": "code",
   "execution_count": 2,
   "metadata": {},
   "outputs": [],
   "source": [
    "import razor_data\n",
    "import plotting\n",
    "import gp\n",
    "importlib.reload(razor_data);\n",
    "importlib.reload(plotting);"
   ]
  },
  {
   "cell_type": "code",
   "execution_count": 3,
   "metadata": {},
   "outputs": [],
   "source": [
    "binned_data = razor_data.get_binned_data_1d(num_mr_bins=100)"
   ]
  },
  {
   "cell_type": "code",
   "execution_count": 4,
   "metadata": {
    "collapsed": true
   },
   "outputs": [],
   "source": [
    "# Squared exponential kernel\n",
    "ell = 100\n",
    "alpha = 1\n",
    "kernel = gp.SquaredExponentialKernel(ell, alpha)"
   ]
  },
  {
   "cell_type": "code",
   "execution_count": 5,
   "metadata": {
    "collapsed": true
   },
   "outputs": [],
   "source": [
    "# Try it for data in one box\n",
    "test_data = binned_data['MultiJet'][1]\n",
    "U = test_data['u']\n",
    "Y = test_data['y']"
   ]
  },
  {
   "cell_type": "code",
   "execution_count": 6,
   "metadata": {},
   "outputs": [],
   "source": [
    "G = gp.GaussianLikelihoodGP(kernel, U, Y)"
   ]
  },
  {
   "cell_type": "code",
   "execution_count": 7,
   "metadata": {},
   "outputs": [
    {
     "data": {
      "text/plain": [
       "(Variable containing:\n",
       " nan\n",
       " nan\n",
       " nan\n",
       " nan\n",
       " nan\n",
       " nan\n",
       " nan\n",
       " nan\n",
       " nan\n",
       " nan\n",
       " nan\n",
       " nan\n",
       " nan\n",
       " nan\n",
       " nan\n",
       " nan\n",
       " nan\n",
       " nan\n",
       " nan\n",
       " nan\n",
       " nan\n",
       " nan\n",
       " nan\n",
       " nan\n",
       " nan\n",
       " nan\n",
       " nan\n",
       " nan\n",
       " nan\n",
       " nan\n",
       " nan\n",
       " nan\n",
       " nan\n",
       " nan\n",
       " nan\n",
       " nan\n",
       " nan\n",
       " nan\n",
       " nan\n",
       " nan\n",
       " nan\n",
       " nan\n",
       " nan\n",
       " nan\n",
       " nan\n",
       " nan\n",
       " nan\n",
       " nan\n",
       " nan\n",
       " nan\n",
       " nan\n",
       " nan\n",
       " nan\n",
       " nan\n",
       " nan\n",
       " nan\n",
       " nan\n",
       " nan\n",
       " nan\n",
       " nan\n",
       " nan\n",
       " nan\n",
       " nan\n",
       " nan\n",
       " nan\n",
       " nan\n",
       " nan\n",
       " nan\n",
       " nan\n",
       " nan\n",
       " nan\n",
       " nan\n",
       " nan\n",
       " nan\n",
       " nan\n",
       " nan\n",
       " nan\n",
       " nan\n",
       " nan\n",
       " nan\n",
       " nan\n",
       " nan\n",
       " nan\n",
       " nan\n",
       " nan\n",
       " nan\n",
       " nan\n",
       " nan\n",
       " nan\n",
       " nan\n",
       " nan\n",
       " nan\n",
       " nan\n",
       " nan\n",
       " nan\n",
       " nan\n",
       " nan\n",
       " nan\n",
       " nan\n",
       " nan\n",
       " [torch.FloatTensor of size 100], Variable containing:\n",
       "   nan   nan   nan  ...    nan   nan   nan\n",
       "   nan   nan   nan  ...    nan   nan   nan\n",
       "   nan   nan   nan  ...    nan   nan   nan\n",
       "        ...          ⋱          ...       \n",
       "   nan   nan   nan  ...    nan   nan   nan\n",
       "   nan   nan   nan  ...    nan   nan   nan\n",
       "   nan   nan   nan  ...    nan   nan   nan\n",
       " [torch.FloatTensor of size 100x100])"
      ]
     },
     "execution_count": 7,
     "metadata": {},
     "output_type": "execute_result"
    }
   ],
   "source": [
    "G.predict(U)"
   ]
  },
  {
   "cell_type": "code",
   "execution_count": null,
   "metadata": {
    "collapsed": true
   },
   "outputs": [],
   "source": []
  }
 ],
 "metadata": {
  "kernelspec": {
   "display_name": "Python 3",
   "language": "python",
   "name": "python3"
  },
  "language_info": {
   "codemirror_mode": {
    "name": "ipython",
    "version": 3
   },
   "file_extension": ".py",
   "mimetype": "text/x-python",
   "name": "python",
   "nbconvert_exporter": "python",
   "pygments_lexer": "ipython3",
   "version": "3.5.2"
  }
 },
 "nbformat": 4,
 "nbformat_minor": 2
}
